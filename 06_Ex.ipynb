{
 "cells": [
  {
   "cell_type": "markdown",
   "id": "9f612902-7087-4d1e-9d4f-d666e33be3cd",
   "metadata": {},
   "source": [
    "# Ejercicio 6 de OOP (Herencia multiple)"
   ]
  },
  {
   "cell_type": "markdown",
   "id": "7678be1e-7c78-46e3-ba1a-db040f2a712b",
   "metadata": {},
   "source": [
    "<img src=\"./Diagramas_clases/06_herencia_multiple_company.jpeg\" alt=\"Ex 6\" width=\"300\">"
   ]
  },
  {
   "cell_type": "markdown",
   "id": "adf9251f-c7f6-4fc5-a21d-e422b4039b64",
   "metadata": {},
   "source": [
    "## Clase Employee\n",
    "- **int id**: Atributo de instancia. Identifica de manera unica a cada instancia de `Employee`.\n",
    "- **int new_id**: Atributo de clase. Identificador unico.\n",
    "- **void say_id()**: Imprime `Mi id es: {self.id}`."
   ]
  },
  {
   "cell_type": "code",
   "execution_count": 1,
   "id": "5fd16111-75af-4df5-988f-916a8293af6c",
   "metadata": {},
   "outputs": [],
   "source": [
    "class Employee:\n",
    "    new_id = 1\n",
    "    \n",
    "    def __init__(self):\n",
    "        self.id = Employee.new_id        \n",
    "        Employee.new_id += 1\n",
    "        \n",
    "    def say_id(self):\n",
    "        print(f'Mi id es {self.id}')"
   ]
  },
  {
   "cell_type": "markdown",
   "id": "bb4037ec-58e5-4fc9-8200-f88cb106b538",
   "metadata": {},
   "source": [
    "## Clase User\n",
    "- **str role**: Atributo de instancia. Funcion de `User` p.ej.\n",
    "    - Administrador\n",
    "    - Manager\n",
    "    - Usuario\n",
    "- **str username**: Atributo de instancia. Nombre del usuario.\n",
    "- **void say_user_info()**: Imprime `Mi nombre es {self.username} y soy {self.role}.`.\n"
   ]
  },
  {
   "cell_type": "code",
   "execution_count": 2,
   "id": "5985b3e8-3c84-42b1-a6ec-f284ab34b2d9",
   "metadata": {},
   "outputs": [],
   "source": [
    "class User:\n",
    "    def __init__(self, role, username):\n",
    "        self.role = role\n",
    "        self.username = username\n",
    "\n",
    "    def say_user_info(self):\n",
    "        print(f'Mi nombre es {self.username} y soy {self.role}.')"
   ]
  },
  {
   "cell_type": "markdown",
   "id": "b0170c8b-9c82-4d7e-8494-51b09af2ab88",
   "metadata": {},
   "source": [
    "## Clase Admin\n",
    "- **void say_id()**: Imprime:\n",
    "    - `Mi id es: {self.id}`.\n",
    "    - `Soy un Administrador \\\\(0-0)/`."
   ]
  },
  {
   "cell_type": "code",
   "execution_count": 3,
   "id": "6b01d80a-6bf2-4dda-8a21-7c8b238d7a58",
   "metadata": {},
   "outputs": [
    {
     "name": "stderr",
     "output_type": "stream",
     "text": [
      "<>:4: SyntaxWarning: invalid escape sequence '\\('\n",
      "<>:4: SyntaxWarning: invalid escape sequence '\\('\n",
      "/var/folders/ch/0_wd_nw52px27xxb5c6tyxc40000gr/T/ipykernel_1989/1777474266.py:4: SyntaxWarning: invalid escape sequence '\\('\n",
      "  print(f'Soy un Administrador \\(0-0)/')\n"
     ]
    }
   ],
   "source": [
    "class Admin(Employee, User):\n",
    "    def say_id(self):\n",
    "        super().say_id()\n",
    "        print(f'Soy un Administrador \\(0-0)/')"
   ]
  },
  {
   "cell_type": "markdown",
   "id": "32c6120a-b2b0-4304-8e48-53e4372eb7a3",
   "metadata": {},
   "source": [
    "## Clase Manager\n",
    "- **void say_id()**: Imprime:\n",
    "    - `Mi id es: {self.id}`.\n",
    "    - `Soy un Administrador \\\\(0-0)/`.    \n",
    "    - `Y estoy al mando`."
   ]
  },
  {
   "cell_type": "code",
   "execution_count": 4,
   "id": "1020b313-749b-46b8-9dfe-e59963deadad",
   "metadata": {},
   "outputs": [],
   "source": [
    "class Manager(Admin):\n",
    "    def say_id(self):\n",
    "        super().say_id()\n",
    "        print(f'Y estoy al mando')"
   ]
  },
  {
   "cell_type": "code",
   "execution_count": 5,
   "id": "18dda8f9-5288-4a5e-bbe3-994d63606f01",
   "metadata": {},
   "outputs": [
    {
     "name": "stdout",
     "output_type": "stream",
     "text": [
      "Mi id es 1\n"
     ]
    }
   ],
   "source": [
    "Juan = Employee()\n",
    "Juan.say_id()"
   ]
  },
  {
   "cell_type": "code",
   "execution_count": 11,
   "id": "53d308c9-192c-4898-a09e-78d261365251",
   "metadata": {},
   "outputs": [
    {
     "name": "stdout",
     "output_type": "stream",
     "text": [
      "Mi nombre es Daniela y soy Administrador.\n"
     ]
    }
   ],
   "source": [
    "Daniela = User('Administrador', 'Daniela')\n",
    "Daniela.say_user_info()"
   ]
  },
  {
   "cell_type": "code",
   "execution_count": 7,
   "id": "87754440-ce8a-4d35-8286-7ec9f831ba05",
   "metadata": {},
   "outputs": [
    {
     "name": "stdout",
     "output_type": "stream",
     "text": [
      "Mi id es 2\n",
      "Soy un Administrador \\(0-0)/\n"
     ]
    }
   ],
   "source": [
    "Cristina = Admin()\n",
    "Cristina.say_id()"
   ]
  },
  {
   "cell_type": "code",
   "execution_count": 8,
   "id": "e31e3a93-2a4a-4749-ac2c-062ff3013606",
   "metadata": {},
   "outputs": [
    {
     "name": "stdout",
     "output_type": "stream",
     "text": [
      "Mi id es 3\n",
      "Soy un Administrador \\(0-0)/\n",
      "Y estoy al mando\n"
     ]
    }
   ],
   "source": [
    "Flit = Manager()\n",
    "Flit.say_id()"
   ]
  }
 ],
 "metadata": {
  "kernelspec": {
   "display_name": "Python 3 (ipykernel)",
   "language": "python",
   "name": "python3"
  },
  "language_info": {
   "codemirror_mode": {
    "name": "ipython",
    "version": 3
   },
   "file_extension": ".py",
   "mimetype": "text/x-python",
   "name": "python",
   "nbconvert_exporter": "python",
   "pygments_lexer": "ipython3",
   "version": "3.12.5"
  }
 },
 "nbformat": 4,
 "nbformat_minor": 5
}
