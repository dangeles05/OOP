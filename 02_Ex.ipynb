{
 "cells": [
  {
   "cell_type": "markdown",
   "id": "938d291d-a987-449c-b40b-ad24013e11c7",
   "metadata": {},
   "source": [
    "# Ejercicio 2 de OOP (Herencia)"
   ]
  },
  {
   "cell_type": "markdown",
   "id": "521fc68c-6bf1-44bf-9a86-614cdc91c05f",
   "metadata": {},
   "source": [
    "<img src= \"./Diagramas_clases/02_herencia.png\" alt= \"Ex 2\" width= \"500\">"
   ]
  },
  {
   "cell_type": "markdown",
   "id": "cb3ed0bc-9961-4a6c-93fb-7ccba2629fa5",
   "metadata": {},
   "source": [
    "- **void eat()**: Imprime `Yummy yummy! estoy comiendo`\n",
    "- **void meow()**: Imprime `Soy un gato y hago meow!`\n",
    "- **void bark()**: Imprime `Soy un perro y hago woof!`"
   ]
  },
  {
   "cell_type": "code",
   "execution_count": 15,
   "id": "4e53f893-a4ff-47e4-a6d0-531e673cd0e4",
   "metadata": {},
   "outputs": [],
   "source": [
    "class Animal:\n",
    "    def __init__(self, name):\n",
    "        self.name = name\n",
    "        \n",
    "    def eat(self):\n",
    "        print(f'Yummy yummy! estoy comiendo')\n",
    "        \n",
    "class Cat(Animal): #Esta heredando la clase Animal\n",
    "    def meow(self):\n",
    "        print(f'Soy {self.name} y hago meow!')\n",
    "\n",
    "class Dog(Animal):\n",
    "    def bark(self):\n",
    "        print(f'Soy {self.name} y hago woof!')"
   ]
  },
  {
   "cell_type": "code",
   "execution_count": 16,
   "id": "cd48dc63-45bb-49b4-abe1-470f82198479",
   "metadata": {},
   "outputs": [
    {
     "name": "stdout",
     "output_type": "stream",
     "text": [
      "Soy michu y hago meow!\n",
      "Yummy yummy! estoy comiendo\n",
      "Soy firulais y hago woof!\n",
      "Yummy yummy! estoy comiendo\n"
     ]
    }
   ],
   "source": [
    "michu = Cat('michu')\n",
    "firulais = Dog('firulais')\n",
    "\n",
    "michu.meow()\n",
    "michu.eat()\n",
    "\n",
    "firulais.bark()\n",
    "firulais.eat()"
   ]
  },
  {
   "cell_type": "code",
   "execution_count": null,
   "id": "d3eca366-7b5f-4b8b-84ef-cd406e3ecbcf",
   "metadata": {},
   "outputs": [],
   "source": []
  }
 ],
 "metadata": {
  "kernelspec": {
   "display_name": "Python 3 (ipykernel)",
   "language": "python",
   "name": "python3"
  },
  "language_info": {
   "codemirror_mode": {
    "name": "ipython",
    "version": 3
   },
   "file_extension": ".py",
   "mimetype": "text/x-python",
   "name": "python",
   "nbconvert_exporter": "python",
   "pygments_lexer": "ipython3",
   "version": "3.10.7"
  }
 },
 "nbformat": 4,
 "nbformat_minor": 5
}
