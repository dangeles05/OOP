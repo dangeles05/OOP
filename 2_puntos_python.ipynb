{
 "cells": [
  {
   "cell_type": "code",
   "execution_count": 32,
   "id": "04559ecc-c68f-4119-ad02-1c8d170dece4",
   "metadata": {},
   "outputs": [],
   "source": [
    "import math\n",
    "\n",
    "class point2D:\n",
    "\n",
    "    def __init__(self, x1, y1, x2, y2):\n",
    "        self.x1 = x1\n",
    "        self.y1 = y1\n",
    "        self.x2 = x2\n",
    "        self.y2 = y2\n",
    "\n",
    "    def calculate_distance(self):\n",
    "        d = math.sqrt((self.x2 - self.x1)**2 + (self.y2 - self.y1)**2)\n",
    "        return f'La distancia del punto ({self.x1}, {self.y1}) al punto ({self.x2}, {self.y2}) es de: {d}'"
   ]
  },
  {
   "cell_type": "code",
   "execution_count": 34,
   "id": "6f38a922-46ba-411f-8c3d-04d197561a49",
   "metadata": {},
   "outputs": [
    {
     "data": {
      "text/plain": [
       "'La distancia del punto (3, 4) al punto (9, 5) es de: 6.082762530298219'"
      ]
     },
     "execution_count": 34,
     "metadata": {},
     "output_type": "execute_result"
    }
   ],
   "source": [
    "punto1 = point2D(3,4,9,5)\n",
    "punto1.calculate_distance()"
   ]
  },
  {
   "cell_type": "code",
   "execution_count": 35,
   "id": "78d9d7cc-4459-4f26-9ee8-869f2f3027ba",
   "metadata": {},
   "outputs": [
    {
     "data": {
      "text/plain": [
       "'La distancia del punto (-3, 4) al punto (9, -5) es de: 15.0'"
      ]
     },
     "execution_count": 35,
     "metadata": {},
     "output_type": "execute_result"
    }
   ],
   "source": [
    "punto2 = point2D(-3,4,9,-5)\n",
    "punto2.calculate_distance()"
   ]
  },
  {
   "cell_type": "code",
   "execution_count": 41,
   "id": "b06d67e5-948c-4dbd-b98d-900e747b5619",
   "metadata": {},
   "outputs": [],
   "source": [
    "class point2d:\n",
    "    def __init__(self, x, y):\n",
    "        self.x = x\n",
    "        self.y = y\n",
    "\n",
    "    def calcular_distancia(self, other):\n",
    "        distance = math.sqrt((self.x - other.x)**2 + (self.y - other.y)**2)\n",
    "        return distance"
   ]
  },
  {
   "cell_type": "code",
   "execution_count": 43,
   "id": "ea9dc837-af56-40d1-899a-391f4aeb808d",
   "metadata": {},
   "outputs": [
    {
     "name": "stdout",
     "output_type": "stream",
     "text": [
      "6.082762530298219\n"
     ]
    }
   ],
   "source": [
    "point1 = point2d(3,4)\n",
    "point2 = point2d(9,5)\n",
    "distanc = point1.calcular_distancia(point2)\n",
    "print(distanc)"
   ]
  }
 ],
 "metadata": {
  "kernelspec": {
   "display_name": "Python 3 (ipykernel)",
   "language": "python",
   "name": "python3"
  },
  "language_info": {
   "codemirror_mode": {
    "name": "ipython",
    "version": 3
   },
   "file_extension": ".py",
   "mimetype": "text/x-python",
   "name": "python",
   "nbconvert_exporter": "python",
   "pygments_lexer": "ipython3",
   "version": "3.10.7"
  }
 },
 "nbformat": 4,
 "nbformat_minor": 5
}
