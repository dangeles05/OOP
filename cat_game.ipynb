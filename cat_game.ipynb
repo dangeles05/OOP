{
 "cells": [
  {
   "cell_type": "markdown",
   "id": "9a65df35-3d11-4aa6-9cb3-fa284be193ae",
   "metadata": {},
   "source": [
    "# Funcion `print_board(board)`\n",
    "\n",
    " Lo que hace esta funcion es generar graficamente la tabla, para poder ver los espacios donde se va a estar jugando\n",
    "\n",
    "- `board` es una lista de listas que representa el tablero de juego. Cada sublista es una fila del tablero.\n",
    "- `La función` recorre cada fila del tablero (row) y une los elementos de la fila (que son \"X\", \"O\" o un espacio \" \") con una barra vertical \" | \" entre ellos.\n",
    "- `Después` de imprimir cada fila, imprime una línea divisoria hecha de guiones (\"-\" * 5) para separar visualmente las filas."
   ]
  },
  {
   "cell_type": "markdown",
   "id": "29761c7e-371e-4a23-b981-6148b0867fec",
   "metadata": {},
   "source": [
    "# Funcion `check_winner(board, player)`\n",
    "\n",
    "- Mediante esta funcion el algoritmo verifica si un jugador (ya sea x o 0) haya ganado la partida\n",
    "\n",
    "- La función recibe el tablero (board) y el jugador (player), que puede ser \"X\" o \"O\".  \n",
    "## Verificación de filas y columnas:  \n",
    "- Para cada fila (índice i), se verifica si todos los elementos de esa fila son iguales al símbolo del jugador (player).  \n",
    "- También se verifica si todos los elementos de la columna i son iguales al símbolo del jugador.  \n",
    "- Si alguna fila o columna cumple esta condición, el jugador ha ganado y la función devuelve `True`.  \n",
    "## Verificación de diagonales:  \n",
    "- La primera condición `board[0][0] == board[1][1] == board[2][2] == player` verifica la diagonal principal.  \n",
    "- La segunda condición `board[0][2] == board[1][1] == board[2][0] == player` verifica la diagonal secundaria.  \n",
    "- Si alguna de las diagonales cumple esta condición, el jugador ha ganado y la función devuelve True.  \n",
    "- Si no se cumple ninguna de estas condiciones, la función devuelve False.  "
   ]
  },
  {
   "cell_type": "markdown",
   "id": "18b0be6c-e57e-4d78-b6db-44a0329483bf",
   "metadata": {},
   "source": [
    "# Funcion `is_full(board)`\n",
    "\n",
    "- Esta función verifica si el tablero está lleno, lo que significa que ya no hay movimientos posibles y el juego debe terminar en empate.\n",
    "\n",
    "- La función recorre cada fila y cada casilla del tablero.\n",
    "- Si todas las casillas están ocupadas (es decir, ninguna es un espacio \" \"), la función devuelve `True`.\n",
    "- Si al menos una casilla está vacía, la función devuelve `False`.  "
   ]
  },
  {
   "cell_type": "markdown",
   "id": "cbf1f1fc-8e49-4ee1-ae0e-7b8731c38ded",
   "metadata": {},
   "source": [
    "# Funcion `tic_tac_toe()`\n",
    "\n",
    "- Esta es la función principal que ejecuta el juego. Aquí es donde se configura el tablero, se alternan los turnos de los jugadores y se verifica si alguien ha ganado o si el juego ha terminado en empate.\n",
    "\n",
    "- inicialización del tablero: Se crea una lista de listas board que representa el tablero de 3x3, y se llena inicialmente con espacios \" \" (casillas vacías).\n",
    "- Inicialización del jugador: El primer jugador es \"X\".  \n"
   ]
  },
  {
   "cell_type": "code",
   "execution_count": null,
   "id": "69483494-4413-4cd1-94f6-b81ed9577b82",
   "metadata": {},
   "outputs": [],
   "source": []
  }
 ],
 "metadata": {
  "kernelspec": {
   "display_name": "Python 3 (ipykernel)",
   "language": "python",
   "name": "python3"
  },
  "language_info": {
   "codemirror_mode": {
    "name": "ipython",
    "version": 3
   },
   "file_extension": ".py",
   "mimetype": "text/x-python",
   "name": "python",
   "nbconvert_exporter": "python",
   "pygments_lexer": "ipython3",
   "version": "3.10.7"
  }
 },
 "nbformat": 4,
 "nbformat_minor": 5
}
