{
 "cells": [
  {
   "cell_type": "markdown",
   "id": "9a65df35-3d11-4aa6-9cb3-fa284be193ae",
   "metadata": {},
   "source": [
    "# Funcion `print_board(board)`\n",
    "\n",
    " Lo que hace esta funcion es generar graficamente la tabla, para poder ver los espacios donde se va a estar jugando\n",
    "\n",
    "- `board` es una lista de listas que representa el tablero de juego. Cada sublista es una fila del tablero.\n",
    "- `La función` recorre cada fila del tablero (row) y une los elementos de la fila (que son \"X\", \"O\" o un espacio \" \") con una barra vertical \" | \" entre ellos.\n",
    "- `Después` de imprimir cada fila, imprime una línea divisoria hecha de guiones (\"-\" * 5) para separar visualmente las filas."
   ]
  },
  {
   "cell_type": "code",
   "execution_count": null,
   "id": "53de2399-f257-4ee5-901f-7ca3d30bb93b",
   "metadata": {},
   "outputs": [],
   "source": [
    "def print_board(board):\n",
    "    print(\"\\n\")\n",
    "    for row in board:\n",
    "        print(\" | \".join(row))\n",
    "        print(\"-\" * 5)"
   ]
  },
  {
   "cell_type": "markdown",
   "id": "09726ff0-268d-4743-a1d9-cc04c6b4cbf2",
   "metadata": {},
   "source": [
    "# Funcion `check_winner(board, player)`\n",
    "\n",
    "- Mediante esta funcion el algoritmo verifica si un jugador (ya sea x o 0) haya ganado la partida\n",
    "\n",
    "- La función recibe el tablero (board) y el jugador (player), que puede ser \"X\" o \"O\".  \n",
    "## Verificación de filas y columnas:  \n",
    "- Para cada fila (índice i), se verifica si todos los elementos de esa fila son iguales al símbolo del jugador (player).  \n",
    "- También se verifica si todos los elementos de la columna i son iguales al símbolo del jugador.  \n",
    "- Si alguna fila o columna cumple esta condición, el jugador ha ganado y la función devuelve `True`.  \n",
    "## Verificación de diagonales:  \n",
    "- La primera condición `board[0][0] == board[1][1] == board[2][2] == player` verifica la diagonal principal.  \n",
    "- La segunda condición `board[0][2] == board[1][1] == board[2][0] == player` verifica la diagonal secundaria.  \n",
    "- Si alguna de las diagonales cumple esta condición, el jugador ha ganado y la función devuelve True.  \n",
    "- Si no se cumple ninguna de estas condiciones, la función devuelve False.  "
   ]
  },
  {
   "cell_type": "code",
   "execution_count": null,
   "id": "77de4208-c908-4b66-a5fa-5d580964c7b1",
   "metadata": {},
   "outputs": [],
   "source": [
    "def check_winner(board, player):\n",
    "    # Verificar filas, columnas y diagonales\n",
    "    for i in range(3):\n",
    "        if all([spot == player for spot in board[i]]) or all([board[j][i] == player for j in range(3)]):\n",
    "            return True\n",
    "\n",
    "    if board[0][0] == board[1][1] == board[2][2] == player or board[0][2] == board[1][1] == board[2][0] == player:\n",
    "        return True\n",
    "\n",
    "    return False"
   ]
  },
  {
   "cell_type": "markdown",
   "id": "18b0be6c-e57e-4d78-b6db-44a0329483bf",
   "metadata": {},
   "source": [
    "# Funcion `is_full(board)`\n",
    "\n",
    "- Esta función verifica si el tablero está lleno, lo que significa que ya no hay movimientos posibles y el juego debe terminar en empate.\n",
    "\n",
    "- La función recorre cada fila y cada casilla del tablero.\n",
    "- Si todas las casillas están ocupadas (es decir, ninguna es un espacio \" \"), la función devuelve `True`.\n",
    "- Si al menos una casilla está vacía, la función devuelve `False`.  "
   ]
  },
  {
   "cell_type": "code",
   "execution_count": null,
   "id": "24ceac4d-92f8-40ba-9127-294c29ee8b51",
   "metadata": {},
   "outputs": [],
   "source": [
    "def is_full(board):\n",
    "    return all([spot != \" \" for row in board for spot in row])"
   ]
  },
  {
   "cell_type": "markdown",
   "id": "cbf1f1fc-8e49-4ee1-ae0e-7b8731c38ded",
   "metadata": {},
   "source": [
    "# Funcion `tic_tac_toe()`\n",
    "\n",
    "- Esta es la función principal que ejecuta el juego. Aquí es donde se configura el tablero, se alternan los turnos de los jugadores y se verifica si alguien ha ganado o si el juego ha terminado en empate.\n",
    "\n",
    "- inicialización del tablero: Se crea una lista de listas board que representa el tablero de 3x3, y se llena inicialmente con espacios \" \" (casillas vacías).\n",
    "- Inicialización del jugador: El primer jugador es \"X\".  \n",
    "## Bucle del juego:  \n",
    "\n",
    "- Impresión del tablero y solicitud de entrada: Se muestra el tablero actual y se solicita al jugador actual que introduzca las coordenadas de su movimiento (fila y columna).\n",
    "- Entrada del jugador: El código intenta convertir la entrada del usuario a dos enteros (row y col). Si la entrada no es válida (por ejemplo, no son dos números), se muestra un mensaje de error y se vuelve a solicitar la entrada.\n",
    "- Verificación del movimiento: Se verifica si la posición introducida es válida (dentro del rango de 1 a 3) y si la casilla correspondiente en el tablero está vacía. Si el movimiento no es válido, se muestra un mensaje de error y se vuelve a solicitar la entrada.\n",
    "- Actualización del tablero: Si el movimiento es válido, se actualiza la casilla correspondiente con el símbolo del jugador actual (current_player).\n",
    "- Verificación del ganador: Después de cada movimiento, se verifica si el jugador actual ha ganado usando la función check_winner. Si gana, se imprime el tablero y se muestra un mensaje de victoria.\n",
    "- Verificación del empate: Si no hay un ganador y el tablero está lleno (is_full(board)), el juego termina en empate.\n",
    "- Cambio de jugador: Si el juego no ha terminado, se alterna al siguiente jugador. Si el jugador actual era \"X\", ahora es \"O\", y viceversa.\n",
    "- Fin del juego: El bucle termina cuando hay un ganador o cuando el tablero está lleno y el juego termina en empate.\n",
    "  "
   ]
  },
  {
   "cell_type": "code",
   "execution_count": null,
   "id": "09089bb3-b34a-45af-816f-80b542252922",
   "metadata": {},
   "outputs": [],
   "source": [
    "def tic_tac_toe():\n",
    "    board = [[\" \" for _ in range(3)] for _ in range(3)]\n",
    "    current_player = \"X\"\n",
    "\n",
    "    while True:\n",
    "        print_board(board)\n",
    "        print(f\"Turno del jugador {current_player}\")\n",
    "\n",
    "        try:\n",
    "            row, col = map(int, input(\"Introduce la fila y columna (ejemplo: 1 2): \").split())\n",
    "        except ValueError:\n",
    "            print(\"Entrada no válida, por favor introduce dos números.\")\n",
    "            continue\n",
    "\n",
    "        if row < 1 or row > 3 or col < 1 or col > 3 or board[row-1][col-1] != \" \":\n",
    "            print(\"Movimiento no válido, intenta de nuevo.\")\n",
    "            continue\n",
    "\n",
    "        board[row-1][col-1] = current_player\n",
    "\n",
    "        if check_winner(board, current_player):\n",
    "            print_board(board)\n",
    "            print(f\"¡El jugador {current_player} gana!\")\n",
    "            break\n",
    "        elif is_full(board):\n",
    "            print_board(board)\n",
    "            print(\"¡Es un empate!\")\n",
    "            break\n",
    "\n",
    "        current_player = \"O\" if current_player == \"X\" else \"X\""
   ]
  },
  {
   "cell_type": "code",
   "execution_count": null,
   "id": "69483494-4413-4cd1-94f6-b81ed9577b82",
   "metadata": {},
   "outputs": [],
   "source": []
  }
 ],
 "metadata": {
  "kernelspec": {
   "display_name": "Python 3 (ipykernel)",
   "language": "python",
   "name": "python3"
  },
  "language_info": {
   "codemirror_mode": {
    "name": "ipython",
    "version": 3
   },
   "file_extension": ".py",
   "mimetype": "text/x-python",
   "name": "python",
   "nbconvert_exporter": "python",
   "pygments_lexer": "ipython3",
   "version": "3.10.7"
  }
 },
 "nbformat": 4,
 "nbformat_minor": 5
}
