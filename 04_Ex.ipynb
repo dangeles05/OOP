{
 "cells": [
  {
   "cell_type": "markdown",
   "id": "2209ae89-8e4d-4bc1-a1c3-b6f4c3001427",
   "metadata": {},
   "source": [
    "# EJERCICIO 4 DE OOP"
   ]
  },
  {
   "cell_type": "markdown",
   "id": "cfb45142-a4ce-43d1-a010-5a178f257139",
   "metadata": {},
   "source": [
    "<img src= \"./Diagramas_clases/04_overrinding.png\" alt= \"Ex 1\" width= \"500\">"
   ]
  },
  {
   "cell_type": "markdown",
   "id": "c50698f9-b6b9-4b69-8d06-d7af79998e93",
   "metadata": {},
   "source": [
    "## Clase Animal\n",
    "- **str name**: Atributo de instancia. Nombre del animal.\n",
    "- **void eat()**: Imprime `Yummy yummy! estoy comiendo.`.\n",
    "- **void make_noise()**: Imprime `{self.name} hace Grrrr!.`."
   ]
  },
  {
   "cell_type": "code",
   "execution_count": 10,
   "id": "c846d416-ff6c-47ad-a159-233cf68f3a28",
   "metadata": {},
   "outputs": [],
   "source": [
    "class Animal:\n",
    "    def __init__(self, name):\n",
    "        self.name = name\n",
    "        \n",
    "    def eat(self):\n",
    "        print(f'Yummy yummy! estoy comiendo')\n",
    "    \n",
    "    def make_noise(self):\n",
    "        print(f'{self.name} hace Grrrr!')"
   ]
  },
  {
   "cell_type": "code",
   "execution_count": 11,
   "id": "8d1e5d60-c221-4e85-b1d9-9aff53634069",
   "metadata": {},
   "outputs": [
    {
     "name": "stdout",
     "output_type": "stream",
     "text": [
      "Yummy yummy! estoy comiendo\n",
      "Negro hace Grrrr!\n"
     ]
    }
   ],
   "source": [
    "Negro = Animal('Negro')\n",
    "Negro.eat()\n",
    "Negro.make_noise()"
   ]
  },
  {
   "cell_type": "markdown",
   "id": "be5a4bbd-2627-43db-bb0d-298de8d8ab61",
   "metadata": {},
   "source": [
    "## Clase Cat\n",
    "- **void make_noise()**: Imprime `{self.name} hace Rrrrrr!.`.\n",
    "- **void meow()**: Imprime `Soy un gato y hago Meow!.`."
   ]
  },
  {
   "cell_type": "code",
   "execution_count": 18,
   "id": "32b67553-5511-4006-bc6e-a53aeb98c8b3",
   "metadata": {},
   "outputs": [],
   "source": [
    "class Cat(Animal):\n",
    "    def make_noise(self):\n",
    "        print(f'{self.name} hace Rrrrr!')\n",
    "    \n",
    "    def meow(self):\n",
    "        print(f'Soy {self.name} y hago meow!')"
   ]
  },
  {
   "cell_type": "code",
   "execution_count": 19,
   "id": "810dab88-bcbd-45e5-b6c5-0626eb043f95",
   "metadata": {},
   "outputs": [
    {
     "name": "stdout",
     "output_type": "stream",
     "text": [
      "Michu hace Rrrrr!\n",
      "Soy Michu y hago meow!\n",
      "Yummy yummy! estoy comiendo\n"
     ]
    }
   ],
   "source": [
    "Michu = Cat('Michu')\n",
    "Michu.make_noise()\n",
    "Michu.meow()\n",
    "Michu.eat()"
   ]
  },
  {
   "cell_type": "markdown",
   "id": "c6f3a87b-cb78-44ef-a4cc-4cfa06967e9c",
   "metadata": {},
   "source": [
    "## Clase Dog\n",
    "- *void bark()*: Imprime 'Soy un perro y hago woof woof!'."
   ]
  },
  {
   "cell_type": "code",
   "execution_count": 20,
   "id": "b55076a4-b14f-4adb-aaa5-c5ff291d582e",
   "metadata": {},
   "outputs": [],
   "source": [
    "class Dog(Animal):\n",
    "    def bark(self):\n",
    "        print(f'Soy {self.name} y hago woof!')"
   ]
  },
  {
   "cell_type": "code",
   "execution_count": 21,
   "id": "fed0c710-50d5-4d5c-9fd6-7430acc5d657",
   "metadata": {},
   "outputs": [
    {
     "name": "stdout",
     "output_type": "stream",
     "text": [
      "Soy Firu y hago woof!\n",
      "Yummy yummy! estoy comiendo\n",
      "Firu hace Grrrr!\n"
     ]
    }
   ],
   "source": [
    "Firu = Dog('Firu')\n",
    "Firu.bark()\n",
    "Firu.eat()\n",
    "Firu.make_noise()"
   ]
  },
  {
   "cell_type": "code",
   "execution_count": null,
   "id": "d97fa899-8e0a-4bd8-b527-04bac813e837",
   "metadata": {},
   "outputs": [],
   "source": []
  }
 ],
 "metadata": {
  "kernelspec": {
   "display_name": "Python 3 (ipykernel)",
   "language": "python",
   "name": "python3"
  },
  "language_info": {
   "codemirror_mode": {
    "name": "ipython",
    "version": 3
   },
   "file_extension": ".py",
   "mimetype": "text/x-python",
   "name": "python",
   "nbconvert_exporter": "python",
   "pygments_lexer": "ipython3",
   "version": "3.12.5"
  }
 },
 "nbformat": 4,
 "nbformat_minor": 5
}
