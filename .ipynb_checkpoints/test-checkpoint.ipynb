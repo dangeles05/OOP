{
 "cells": [
  {
   "cell_type": "code",
   "execution_count": 2,
   "id": "53b72f1a-a4cb-4488-869f-8820ddaf9be4",
   "metadata": {},
   "outputs": [],
   "source": [
    "import tkinter as tk\n",
    "from tkinter import messagebox\n",
    "\n",
    "class TicTacToe:\n",
    "    def __init__(self, root):\n",
    "        self.root = root\n",
    "        self.root.title(\"Tic Tac Toe\")\n",
    "        self.current_player = \"x\"\n",
    "        self.move_count = 0\n",
    "        self.buttons = []\n",
    "\n",
    "        for i in range(3):\n",
    "            row = []\n",
    "            for j in range(3):\n",
    "                button = tk.Button(root, text=\"\", font=('normal', 40), width=5, height=2,\n",
    "                                  command=lambda i=i, j=j: self.on_button_click(i, j))\n",
    "                button.grid(row=i, column=j)\n",
    "                row.append(button)\n",
    "            self.buttons.append(row)\n",
    "\n",
    "    def toggle_player(self):\n",
    "        self.current_player = \"0\" if self.current_player == \"x\" else \"x\"\n",
    "\n",
    "    def on_button_click(self, i, j):\n",
    "        if self.buttons[i][j][\"text\"] == \"\":\n",
    "            self.buttons[i][j][\"text\"] = self.current_player\n",
    "            self.buttons[i][j][\"state\"] = \"disabled\"\n",
    "            self.move_count += 1\n",
    "            if not self.check_winner():\n",
    "                self.toggle_player()\n",
    "\n",
    "    def check_winner(self):\n",
    "        lines = [self.buttons[i] for i in range(3)] + \\\n",
    "                [[self.buttons[i][j] for i in range(3)] for j in range(3)] + \\\n",
    "                [ [self.buttons[i][i] for i in range(3)], [self.buttons[i][2-i] for i in range(3)] ]\n",
    "\n",
    "        for line in lines:\n",
    "            if line[0][\"text\"] == line[1][\"text\"] == line[2][\"text\"] != \"\":\n",
    "                self.show_winner(line[0][\"text\"])\n",
    "                return True\n",
    "\n",
    "        if self.move_count == 9:\n",
    "            messagebox.showinfo(\"Empate\", \"Nadie gana este juego.\")\n",
    "            self.reset_game()\n",
    "            return True\n",
    "\n",
    "        return False\n",
    "\n",
    "    def show_winner(self, winner):\n",
    "        messagebox.showinfo(\"Ganador\", f\"{winner} gana este juego.\")\n",
    "        if winner == \"x\":\n",
    "            self.contadorx += 1\n",
    "        else:\n",
    "            self.contadory += 1\n",
    "        print(f\"Marcador - X: {self.contadorx}, O: {self.contadory}\")\n",
    "        self.reset_game()\n",
    "\n",
    "    def reset_game(self):\n",
    "        self.move_count = 0\n",
    "        for row in self.buttons:\n",
    "            for button in row:\n",
    "                button[\"text\"] = \"\"\n",
    "                button[\"state\"] = \"normal\""
   ]
  },
  {
   "cell_type": "code",
   "execution_count": 3,
   "id": "90f1e42f-4cc9-43a1-b734-287d3c590749",
   "metadata": {},
   "outputs": [],
   "source": [
    "root = tk.Tk()\n",
    "game = TicTacToe(root)\n",
    "root.mainloop()"
   ]
  },
  {
   "cell_type": "code",
   "execution_count": null,
   "id": "ac39d72d-db37-480e-a3cd-612463603e8a",
   "metadata": {},
   "outputs": [],
   "source": []
  }
 ],
 "metadata": {
  "kernelspec": {
   "display_name": "Python 3 (ipykernel)",
   "language": "python",
   "name": "python3"
  },
  "language_info": {
   "codemirror_mode": {
    "name": "ipython",
    "version": 3
   },
   "file_extension": ".py",
   "mimetype": "text/x-python",
   "name": "python",
   "nbconvert_exporter": "python",
   "pygments_lexer": "ipython3",
   "version": "3.10.7"
  }
 },
 "nbformat": 4,
 "nbformat_minor": 5
}
