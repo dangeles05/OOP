{
 "cells": [
  {
   "cell_type": "code",
   "execution_count": 24,
   "id": "f6697ff9-bd30-463d-9157-a04a03acdbb6",
   "metadata": {},
   "outputs": [],
   "source": [
    "class Persona:\n",
    "\n",
    "    def __init__(self, name, a1, a2):\n",
    "        self.name = name.title()\n",
    "        self.a1 = a1.title()\n",
    "        self.a2 = a2.title()\n",
    "\n",
    "    def say_my_name(self):\n",
    "        return(f'Mi nombre es {self.name} {self.a1} {self.a2}')"
   ]
  },
  {
   "cell_type": "code",
   "execution_count": 25,
   "id": "0ffcb984-17f4-4d7a-a55e-6b1edd5422f9",
   "metadata": {},
   "outputs": [
    {
     "data": {
      "text/plain": [
       "'Mi nombre es Victoria Angeles Perez'"
      ]
     },
     "execution_count": 25,
     "metadata": {},
     "output_type": "execute_result"
    }
   ],
   "source": [
    "Maria = Persona(\"VICTORIA\", \"aNGeLes\", \"perez\")\n",
    "Maria.say_my_name()"
   ]
  },
  {
   "cell_type": "code",
   "execution_count": 28,
   "id": "d111e1c1-e48c-4f1b-a095-121f2f2f4c63",
   "metadata": {},
   "outputs": [],
   "source": [
    "class Persona:\n",
    "\n",
    "    def __init__(self, name, a1, a2):\n",
    "        self.name = name.title()\n",
    "        self.a1 = a1.title()\n",
    "        self.a2 = a2.title()\n",
    "\n",
    "    def __str__(self):\n",
    "        return(f'Mi nombre es {self.name} {self.a1} {self.a2}')"
   ]
  },
  {
   "cell_type": "code",
   "execution_count": 29,
   "id": "9c049e68-6286-4f30-a90b-b94100c7b750",
   "metadata": {},
   "outputs": [
    {
     "name": "stdout",
     "output_type": "stream",
     "text": [
      "Mi nombre es Victoria Angeles Perez\n"
     ]
    }
   ],
   "source": [
    "Maria = Persona(\"VICTORIA\", \"aNGeLes\", \"perez\")\n",
    "print(Maria)"
   ]
  },
  {
   "cell_type": "code",
   "execution_count": null,
   "id": "8f69d7dd-5a68-417b-ae1a-60c5289d7754",
   "metadata": {},
   "outputs": [],
   "source": []
  }
 ],
 "metadata": {
  "kernelspec": {
   "display_name": "Python 3 (ipykernel)",
   "language": "python",
   "name": "python3"
  },
  "language_info": {
   "codemirror_mode": {
    "name": "ipython",
    "version": 3
   },
   "file_extension": ".py",
   "mimetype": "text/x-python",
   "name": "python",
   "nbconvert_exporter": "python",
   "pygments_lexer": "ipython3",
   "version": "3.12.5"
  }
 },
 "nbformat": 4,
 "nbformat_minor": 5
}
