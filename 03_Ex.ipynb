{
 "cells": [
  {
   "cell_type": "markdown",
   "id": "99b02e47-6aa7-43c7-8df4-5978f5767d71",
   "metadata": {},
   "source": [
    "# EJERCICIO 3 DE OOP (Herencia)"
   ]
  },
  {
   "cell_type": "markdown",
   "id": "bf305e44-5040-41d0-b944-fb40f30ea3ed",
   "metadata": {},
   "source": [
    "<img src= \"./Diagramas_clases/03_herencia.png\" alt= \"Ex 1\" width= \"500\">"
   ]
  },
  {
   "cell_type": "markdown",
   "id": "cb4c1933-9829-4892-ad21-dc6b904052bf",
   "metadata": {},
   "source": [
    "## Clase Employee\n",
    "\n",
    "- *int id*: Atributo de instancia. Identificador unico para cada instancia de Employee.\n",
    "- *int new_id*: Atributo de clase. Identificador unico.\n",
    "- *void say_id()*:  Imprime 'Mi id es: {self.id}."
   ]
  },
  {
   "cell_type": "code",
   "execution_count": 7,
   "id": "ef556a64-14b8-4fba-8f96-ba40b458e4e0",
   "metadata": {},
   "outputs": [],
   "source": [
    "class Employee:\n",
    "    new_id = 1\n",
    "    \n",
    "    def __init__(self):\n",
    "        self.id = Employee.new_id        \n",
    "        Employee.new_id += 1\n",
    "        \n",
    "    def say_id(self):\n",
    "        print(f'Mi id es {self.id}')"
   ]
  },
  {
   "cell_type": "code",
   "execution_count": 8,
   "id": "921b8b6c-3c6a-4791-906a-620f212ce8ce",
   "metadata": {},
   "outputs": [
    {
     "name": "stdout",
     "output_type": "stream",
     "text": [
      "Mi id es 1\n",
      "Mi id es 2\n"
     ]
    }
   ],
   "source": [
    "Savana = Employee()\n",
    "Savana.say_id()\n",
    "\n",
    "Dakota = Employee()\n",
    "Dakota.say_id()"
   ]
  },
  {
   "cell_type": "markdown",
   "id": "3da2aa8b-1ca7-445b-b271-b94817fef384",
   "metadata": {},
   "source": [
    "## Clase Admin (Jefe de carrera)\n",
    "- **void say_id()**: Imprime:\n",
    "    - `Mi id es (self.id)`\n",
    "    - `Soy administrador`"
   ]
  },
  {
   "cell_type": "code",
   "execution_count": 9,
   "id": "95d41762-4e62-4204-a17e-32b3336a5b5a",
   "metadata": {},
   "outputs": [],
   "source": [
    "class Admin(Employee):\n",
    "    def say_id(self):\n",
    "        super().say_id()\n",
    "        print(f'Soy administrador')"
   ]
  },
  {
   "cell_type": "code",
   "execution_count": 10,
   "id": "03b55f44-1d26-4c9c-9f83-36b771e736ae",
   "metadata": {},
   "outputs": [
    {
     "name": "stdout",
     "output_type": "stream",
     "text": [
      "Mi id es 3\n",
      "Soy administrador\n"
     ]
    }
   ],
   "source": [
    "Juan = Admin()\n",
    "Juan.say_id()"
   ]
  },
  {
   "cell_type": "markdown",
   "id": "e217262a-a4c2-42d7-ba3f-d2fe14884132",
   "metadata": {},
   "source": [
    "## Clase Manager (Tutor)\n",
    "- **void say_id()**: Imprime:\n",
    "    - `Mi id es (self.id)`\n",
    "    - `Soy administrador`\n",
    "    - `Estoy a cargo`"
   ]
  },
  {
   "cell_type": "code",
   "execution_count": 19,
   "id": "18d54014-a236-4b3e-9ef1-c3332a30c8e1",
   "metadata": {},
   "outputs": [],
   "source": [
    "class Manager(Admin):\n",
    "    def say_id(self):\n",
    "        super().say_id()\n",
    "        print(f'Estoy a cargo')"
   ]
  },
  {
   "cell_type": "code",
   "execution_count": 20,
   "id": "0e21ad9c-7189-4683-8a60-7ab61d13226b",
   "metadata": {},
   "outputs": [
    {
     "name": "stdout",
     "output_type": "stream",
     "text": [
      "Mi id es 7\n",
      "Soy administrador\n",
      "Estoy a cargo\n"
     ]
    }
   ],
   "source": [
    "Eunice = Manager()\n",
    "Eunice.say_id()"
   ]
  },
  {
   "cell_type": "code",
   "execution_count": null,
   "id": "44a48b72-455a-450f-a258-d12ecb4956f2",
   "metadata": {},
   "outputs": [],
   "source": []
  }
 ],
 "metadata": {
  "kernelspec": {
   "display_name": "Python 3 (ipykernel)",
   "language": "python",
   "name": "python3"
  },
  "language_info": {
   "codemirror_mode": {
    "name": "ipython",
    "version": 3
   },
   "file_extension": ".py",
   "mimetype": "text/x-python",
   "name": "python",
   "nbconvert_exporter": "python",
   "pygments_lexer": "ipython3",
   "version": "3.12.5"
  }
 },
 "nbformat": 4,
 "nbformat_minor": 5
}
